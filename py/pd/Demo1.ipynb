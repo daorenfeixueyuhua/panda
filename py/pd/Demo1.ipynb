{
 "cells": [
  {
   "cell_type": "code",
   "execution_count": 85,
   "metadata": {
    "collapsed": true
   },
   "outputs": [
    {
     "name": "stdout",
     "output_type": "stream",
     "text": [
      "关闭\n",
      "优化问题     10\n",
      "否         9\n",
      "是       112\n",
      "需求问题      9\n",
      "Name: 关闭, dtype: int64\n",
      "等级\n",
      "一般的    45\n",
      "严重的    56\n",
      "致命的    16\n",
      "轻微的    23\n",
      "Name: 等级, dtype: int64\n",
      "测试时间\n",
      "44867             8\n",
      "44868             3\n",
      "44869             7\n",
      "2022.10.18        8\n",
      "2022.10.19       15\n",
      "2022.10.20       12\n",
      "2022.10.24        7\n",
      "2022.10.25       16\n",
      "2022.10.26        6\n",
      "2022.10.27        6\n",
      "2022.10.28       10\n",
      "2022.10.31        3\n",
      "2022.11.01        2\n",
      "2022.11.1         2\n",
      "2022.11.2         3\n",
      "2022.11.3         1\n",
      "2022.11.4         2\n",
      "2022.11.7         1\n",
      "2022年10月25日\\n     6\n",
      "2022年10月26日\\n    10\n",
      "2022年10月27日\\n     2\n",
      "2022年10月28日\\n     2\n",
      "2022年10月31日\\n     7\n",
      "Name: 测试时间, dtype: int64\n"
     ]
    }
   ],
   "source": [
    "import pandas as pd\n",
    "import numpy as np\n",
    "\n",
    "file = 'D:\\Projects\\Founder\\JWZH\\doc\\BUG记录表-合并-日期V1.0 - 20221110.xlsx'\n",
    "names = ['序号', '编号', '名称', '等级', '优先级', '重现步骤', '附件', '测试时间', '修复人', '回归测试记录',\n",
    "         '关闭']\n",
    "sheet = pd.read_excel(file, names=names, index_col='序号')\n",
    "# print(sheet.columns)\n",
    "\n",
    "print(sheet.groupby('关闭')['关闭'].agg(np.size))\n",
    "print(sheet.groupby('等级')['等级'].agg(np.size))\n",
    "print(sheet.groupby('测试时间')['测试时间'].agg(np.size))\n",
    "\n"
   ]
  }
 ],
 "metadata": {
  "kernelspec": {
   "display_name": "Python 3",
   "language": "python",
   "name": "python3"
  },
  "language_info": {
   "codemirror_mode": {
    "name": "ipython",
    "version": 2
   },
   "file_extension": ".py",
   "mimetype": "text/x-python",
   "name": "python",
   "nbconvert_exporter": "python",
   "pygments_lexer": "ipython2",
   "version": "2.7.6"
  }
 },
 "nbformat": 4,
 "nbformat_minor": 0
}