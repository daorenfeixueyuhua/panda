{
 "cells": [
  {
   "cell_type": "code",
   "execution_count": 1,
   "metadata": {
    "collapsed": true
   },
   "outputs": [
    {
     "name": "stdout",
     "output_type": "stream",
     "text": [
      "            A     x         y       C           D\n",
      "0  2016-01-01   0.0  0.206240  Medium  112.232828\n",
      "1  2016-01-02   1.0  0.985352     Low  102.971145\n",
      "2  2016-01-03   2.0  0.306022    High  113.890383\n",
      "3  2016-01-04   3.0  0.685363    High  105.271824\n",
      "4  2016-01-05   4.0  0.549146     Low   85.909222\n",
      "5  2016-01-06   5.0  0.782399  Medium  102.726621\n",
      "6  2016-01-07   6.0  0.188377     Low   99.581514\n",
      "7  2016-01-08   7.0  0.433450  Medium  113.098732\n",
      "8  2016-01-09   8.0  0.879577    High   84.237411\n",
      "9  2016-01-10   9.0  0.812363     Low  108.241402\n",
      "10 2016-01-11  10.0  0.837029  Medium   96.801664\n",
      "11 2016-01-12  11.0  0.103123    High   98.121738\n",
      "12 2016-01-13  12.0  0.829903  Medium   94.185662\n",
      "13 2016-01-14  13.0  0.136170    High  105.893401\n",
      "14 2016-01-15  14.0  0.642723  Medium  112.513419\n",
      "15 2016-01-16  15.0  0.928199    High   84.814048\n",
      "16 2016-01-17  16.0  0.483816  Medium  104.666243\n",
      "17 2016-01-18  17.0  0.605253     Low  101.613905\n",
      "18 2016-01-19  18.0  0.972628     Low   82.844912\n",
      "19 2016-01-20  19.0  0.340345  Medium   90.748804\n",
      "A\n",
      "x\n",
      "y\n",
      "C\n",
      "D\n"
     ]
    }
   ],
   "source": [
    "import pandas as pd\n",
    "import numpy as np\n",
    "N=20\n",
    "df = pd.DataFrame({\n",
    "    'A': pd.date_range(start='2016-01-01',periods=N,freq='D'),\n",
    "    'x': np.linspace(0,stop=N-1,num=N),\n",
    "    'y': np.random.rand(N),\n",
    "    'C': np.random.choice(['Low','Medium','High'],N).tolist(),\n",
    "    'D': np.random.normal(100, 10, size=(N)).tolist()\n",
    "})\n",
    "print(df)\n",
    "for col in df:\n",
    "    print (col)\n",
    "\n"
   ]
  },
  {
   "cell_type": "markdown",
   "source": [
    "## iteritems"
   ],
   "metadata": {
    "collapsed": false
   }
  },
  {
   "cell_type": "code",
   "execution_count": 4,
   "outputs": [
    {
     "name": "stdout",
     "output_type": "stream",
     "text": [
      "col1 \n",
      " 0    0.407981\n",
      "1   -0.664145\n",
      "2    0.673957\n",
      "3   -0.669036\n",
      "Name: col1, dtype: float64\n",
      "col2 \n",
      " 0   -0.341562\n",
      "1    0.897723\n",
      "2   -0.533520\n",
      "3   -1.553578\n",
      "Name: col2, dtype: float64\n",
      "col3 \n",
      " 0   -0.234819\n",
      "1    1.089733\n",
      "2    0.655360\n",
      "3   -1.366340\n",
      "Name: col3, dtype: float64\n"
     ]
    }
   ],
   "source": [
    "df = pd.DataFrame(np.random.randn(4,3),columns=['col1','col2','col3'])\n",
    "for key, value in df.iteritems():\n",
    "    print(key, '\\n', value)\n"
   ],
   "metadata": {
    "collapsed": false,
    "pycharm": {
     "name": "#%%\n"
    }
   }
  },
  {
   "cell_type": "markdown",
   "source": [
    "## iterrows"
   ],
   "metadata": {
    "collapsed": false
   }
  },
  {
   "cell_type": "code",
   "execution_count": 5,
   "outputs": [
    {
     "name": "stdout",
     "output_type": "stream",
     "text": [
      "       col1      col2      col3\n",
      "0  0.407981 -0.341562 -0.234819\n",
      "1 -0.664145  0.897723  1.089733\n",
      "2  0.673957 -0.533520  0.655360\n",
      "3 -0.669036 -1.553578 -1.366340\n",
      "0 col1    0.407981\n",
      "col2   -0.341562\n",
      "col3   -0.234819\n",
      "Name: 0, dtype: float64\n",
      "1 col1   -0.664145\n",
      "col2    0.897723\n",
      "col3    1.089733\n",
      "Name: 1, dtype: float64\n",
      "2 col1    0.673957\n",
      "col2   -0.533520\n",
      "col3    0.655360\n",
      "Name: 2, dtype: float64\n",
      "3 col1   -0.669036\n",
      "col2   -1.553578\n",
      "col3   -1.366340\n",
      "Name: 3, dtype: float64\n"
     ]
    }
   ],
   "source": [
    "print(df)\n",
    "for row_index,row in df.iterrows():\n",
    "    print (row_index,row)\n"
   ],
   "metadata": {
    "collapsed": false,
    "pycharm": {
     "name": "#%%\n"
    }
   }
  },
  {
   "cell_type": "markdown",
   "source": [
    "## itertuples\n"
   ],
   "metadata": {
    "collapsed": false
   }
  },
  {
   "cell_type": "code",
   "execution_count": 6,
   "outputs": [
    {
     "name": "stdout",
     "output_type": "stream",
     "text": [
      "Pandas(Index=0, col1=0.40798069737770076, col2=-0.34156224090610565, col3=-0.23481877342093016)\n",
      "Pandas(Index=1, col1=-0.6641453814890524, col2=0.8977231451986275, col3=1.089733199385513)\n",
      "Pandas(Index=2, col1=0.673956674595428, col2=-0.5335199385256512, col3=0.6553597883128848)\n",
      "Pandas(Index=3, col1=-0.669035593858554, col2=-1.5535780901995602, col3=-1.366340451667227)\n"
     ]
    }
   ],
   "source": [
    "for row in df.itertuples():\n",
    "    print(row)"
   ],
   "metadata": {
    "collapsed": false,
    "pycharm": {
     "name": "#%%\n"
    }
   }
  }
 ],
 "metadata": {
  "kernelspec": {
   "display_name": "Python 3",
   "language": "python",
   "name": "python3"
  },
  "language_info": {
   "codemirror_mode": {
    "name": "ipython",
    "version": 2
   },
   "file_extension": ".py",
   "mimetype": "text/x-python",
   "name": "python",
   "nbconvert_exporter": "python",
   "pygments_lexer": "ipython2",
   "version": "2.7.6"
  }
 },
 "nbformat": 4,
 "nbformat_minor": 0
}