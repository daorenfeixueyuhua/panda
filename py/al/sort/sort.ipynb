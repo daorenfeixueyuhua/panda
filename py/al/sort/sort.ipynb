{
 "cells": [
  {
   "cell_type": "code",
   "execution_count": 18,
   "outputs": [],
   "source": [
    "import numpy as np\n",
    "import datetime\n"
   ],
   "metadata": {
    "collapsed": false,
    "pycharm": {
     "name": "#%%\n"
    }
   }
  },
  {
   "cell_type": "markdown",
   "source": [
    "## 插入排序\n",
    "![插入排序](https://www.runoob.com/wp-content/uploads/2019/03/insertionSort.gif)"
   ],
   "metadata": {
    "collapsed": false,
    "pycharm": {
     "name": "#%% md\n"
    }
   }
  },
  {
   "cell_type": "code",
   "execution_count": 3,
   "metadata": {
    "collapsed": true
   },
   "outputs": [
    {
     "name": "stdout",
     "output_type": "stream",
     "text": [
      "[-1.9463177  -0.28861312  0.16531839  0.28753712  0.3129242   0.55996504\n",
      "  1.11842316  1.59387788  1.60123276  2.07973149]\n",
      "10 2022-11-23 10:07:59.768693 2022-11-23 10:07:59.768693 0:00:00\n"
     ]
    }
   ],
   "source": [
    "# 插入排序\n",
    "# 划分A1，A2，A1已排序，A2未排序\n",
    "# 遍历A2，将元素放置A[i],满足A[i-1]<A[i]<A[i+1]\n",
    "def insert_sort(A):\n",
    "    for j in range(1, A.size):\n",
    "        key = A[j]\n",
    "        i = j - 1\n",
    "        while i >= 0 and A[i] > key:\n",
    "            A[i + 1] = A[i]\n",
    "            i -= 1\n",
    "        A[i + 1] = key\n",
    "    return A"
   ]
  },
  {
   "cell_type": "markdown",
   "source": [
    "## 选择排序\n",
    "![选择排序](https://www.runoob.com/wp-content/uploads/2019/03/selectionSort.gif)"
   ],
   "metadata": {
    "collapsed": false,
    "pycharm": {
     "name": "#%% md\n"
    }
   }
  },
  {
   "cell_type": "code",
   "execution_count": null,
   "outputs": [],
   "source": [
    "# 选择算法\n",
    "# 构建序列S, U，满足A = S + U，并且S已排序，U未排序\n",
    "# 迭代U，每次将U(min)放入到S中，直到U为空\n",
    "# S未A排序完成之后的序列\n",
    "def select_sort(A):\n",
    "    for i in range(0, A.size):\n",
    "        minIndex = i\n",
    "        for j in range(i + 1, A.size):\n",
    "            if A[j] < A[minIndex]:\n",
    "                minIndex = j\n",
    "        if i != minIndex:\n",
    "            temp = A[minIndex]\n",
    "            A[minIndex] = A[i]\n",
    "            A[i] = temp\n",
    "    return A"
   ],
   "metadata": {
    "collapsed": false,
    "pycharm": {
     "name": "#%%\n"
    }
   }
  },
  {
   "cell_type": "markdown",
   "source": [
    "## 冒泡排序\n",
    "![冒泡排序](https://www.runoob.com/wp-content/uploads/2019/03/bubbleSort.gif)"
   ],
   "metadata": {
    "collapsed": false,
    "pycharm": {
     "name": "#%% md\n"
    }
   }
  },
  {
   "cell_type": "code",
   "execution_count": null,
   "outputs": [],
   "source": [
    "# 冒泡排序\n",
    "# 遍历A，比较两个元素，将较大（小）的元素放到最后。\n",
    "# 将序列A划分未A1，A2，A1未排序，A2已排序\n",
    "def bubble_sort(A):\n",
    "    for i in range(0, A.size):\n",
    "        for j in range(0, A.size - i - 1):\n",
    "            if A[j] > A[j + 1]:\n",
    "                temp = A[j]\n",
    "                A[j] = A[j + 1]\n",
    "                A[j + 1] = temp\n",
    "    return A"
   ],
   "metadata": {
    "collapsed": false,
    "pycharm": {
     "name": "#%%\n"
    }
   }
  },
  {
   "cell_type": "markdown",
   "source": [
    "## 归并排序\n",
    "![归并排序](https://www.runoob.com/wp-content/uploads/2019/03/mergeSort.gif)"
   ],
   "metadata": {
    "collapsed": false,
    "pycharm": {
     "name": "#%% md\n"
    }
   }
  },
  {
   "cell_type": "code",
   "execution_count": null,
   "outputs": [],
   "source": [
    "# 归并排序\n",
    "def merge_sort(A):\n",
    "    if A.size == 1:\n",
    "        return A\n",
    "    middle = np.math.floor(A.size / 2)\n",
    "    left, right = A[0:middle], A[middle:]\n",
    "    return merge(merge_sort(left), merge_sort(right))\n",
    "\n",
    "\n",
    "# 对left和right序列归并\n",
    "def merge(left, right):\n",
    "    result = np.array([])\n",
    "    while left.size and right.size:\n",
    "        if left[0] <= right[0]:\n",
    "            result = np.append(result, left[:1])\n",
    "            left = left[1:]\n",
    "        else:\n",
    "            result = np.append(result, right[:1])\n",
    "            right = right[1:]\n",
    "    while left.size:\n",
    "        result = np.append(result, left[:1])\n",
    "        left = np.array([]) if left.size == 1 else left[1:]\n",
    "    while right.size:\n",
    "        result = np.append(result, right[:1])\n",
    "        right = np.array([]) if right.size == 1 else right[1:]\n",
    "    return result"
   ],
   "metadata": {
    "collapsed": false,
    "pycharm": {
     "name": "#%%\n"
    }
   }
  },
  {
   "cell_type": "markdown",
   "source": [
    "## 希尔排序\n",
    "![希尔排序](https://www.runoob.com/wp-content/uploads/2019/03/Sorting_shellsort_anim.gif)"
   ],
   "metadata": {
    "collapsed": false,
    "pycharm": {
     "name": "#%% md\n"
    }
   }
  },
  {
   "cell_type": "code",
   "execution_count": null,
   "outputs": [],
   "source": [
    "# 希尔排序\n",
    "# 将序列A划分未k个子序列，分别对k个子序列进行插入排序\n",
    "# 最后再对序列A进行插入排序\n",
    "def xier_sort(A):\n",
    "    # 构造子序列开始边界\n",
    "    k = np.array([0])\n",
    "    while k[k.size - 1] < A.size / 3:\n",
    "        k = np.append(k, [k[k.size - 1] * 3 + 1])\n",
    "    k = k[::-1]\n",
    "    for m in k:\n",
    "        for j in range(m + 1, A.size):\n",
    "            key = A[j]\n",
    "            i = j - 1\n",
    "            while i >= m and A[i] > key:\n",
    "                A[i + 1] = A[i]\n",
    "                i -= 1\n",
    "            A[i + 1] = key\n",
    "    return A"
   ],
   "metadata": {
    "collapsed": false,
    "pycharm": {
     "name": "#%%\n"
    }
   }
  },
  {
   "cell_type": "markdown",
   "source": [
    "## 快速排序\n",
    "![快速排序](https://www.runoob.com/wp-content/uploads/2019/03/quickSort.gif)"
   ],
   "metadata": {
    "collapsed": false,
    "pycharm": {
     "name": "#%% md\n"
    }
   }
  },
  {
   "cell_type": "code",
   "execution_count": null,
   "outputs": [],
   "source": [
    "# 快速排序\n",
    "# 快速排序：再冒泡排序的基础上的递归分治\n",
    "def quick_sort(A, left: int, right: int):\n",
    "    if left < right:\n",
    "        pivot_index = partition(A, left, right)\n",
    "        # 对 A[left, pivot_index] 和 A[pivot_index+1,right]进行快排，基准不参与处理\n",
    "        quick_sort(A, left, pivot_index)\n",
    "        quick_sort(A, pivot_index + 1, right)\n",
    "    return A\n",
    "\n",
    "\n",
    "# 设A[left]为基准，对A[left:right]进行排序，保证小于基准的数据再基准左边，大于基准的数据再基准右边，\n",
    "# 并返回基准坐标\n",
    "def partition(A, left: int, right: int):\n",
    "    # 设A[left]为基准\n",
    "    pivot = left\n",
    "    # 保证A[pivot]>=A[pivot+1:index] 成立\n",
    "    index = pivot + 1\n",
    "    # 游标\n",
    "    i = index\n",
    "    while i < right:\n",
    "        if A[i] <= A[pivot]:\n",
    "            swap(A, index, i)\n",
    "            index += 1\n",
    "        i += 1\n",
    "    swap(A, pivot, index - 1)\n",
    "    return index - 1\n",
    "\n",
    "\n",
    "def swap(A, i, j):\n",
    "    A[i], A[j] = A[j], A[i]\n",
    "\n",
    "\n",
    "MAX_M = 10\n",
    "data = np.random.randn(MAX_M)\n",
    "startTime = datetime.datetime.now()\n",
    "# print('srcData', data)\n",
    "print(quick_sort(data.copy(), 0, data.size))\n",
    "entTime = datetime.datetime.now()\n",
    "\n",
    "print(MAX_M, startTime, entTime, entTime - startTime)"
   ],
   "metadata": {
    "collapsed": false,
    "pycharm": {
     "name": "#%%\n"
    }
   }
  },
  {
   "cell_type": "markdown",
   "source": [
    "## 计数排序\n",
    "算法步骤：序列A\n",
    "1. 寻找极大值、极小值，并创建序列C[0, max]={0}\n",
    "2. 计算A元素出现个数，存储与C中：\n",
    "```text\n",
    "for i in A：\n",
    "    C[i]++\n",
    "```\n",
    "3. 开辟大小为 D = sum(C[0, max])的结果序列\n",
    "4. 遍历序列C，每次遍历，循环C[i]次，将i放入到D中\n",
    "\n",
    "![计数排序](https://www.runoob.com/wp-content/uploads/2019/03/countingSort.gif)"
   ],
   "metadata": {
    "collapsed": false
   }
  },
  {
   "cell_type": "code",
   "execution_count": 17,
   "outputs": [
    {
     "name": "stdout",
     "output_type": "stream",
     "text": [
      "src array: [84  1 56  1 88 67 15 65 97 68 72 91 99 10 20  9 70 63 28 44 45 23 89 24\n",
      " 71 75 96 36 41 50 62 44 35 16 57 18 13  0 85 30  4 28  2 99 68 57 15 15\n",
      " 76 32  9  4 71 86 75 78 70 84 99 72 23 23 82 33 77 14 76 47 30 95 34 26\n",
      " 64 10 21 74 36 20 61 59 67 72 38 89 29 10 79 14 37  6 71  1 45 51 57 83\n",
      " 36 24 94 25]\n",
      "minValue, maxValue 0 99\n",
      "count array:  [1 3 1 0 2 0 1 0 0 2 3 0 0 1 2 3 1 0 1 0 2 1 0 3 2 1 1 0 2 1 2 0 1 1 1 1 3\n",
      " 1 1 0 0 1 0 0 2 2 0 1 0 0 1 1 0 0 0 0 1 3 0 1 0 1 1 1 1 1 0 2 2 0 2 3 3 0\n",
      " 1 2 2 1 1 1 0 0 1 1 2 1 1 0 1 2 0 1 0 0 1 1 1 1 0 3]\n",
      "[ 0.  1.  1.  1.  2.  4.  4.  6.  9.  9. 10. 10. 10. 13. 14. 14. 15. 15.\n",
      " 15. 16. 18. 20. 20. 21. 23. 23. 23. 24. 24. 25. 26. 28. 28. 29. 30. 30.\n",
      " 32. 33. 34. 35. 36. 36. 36. 37. 38. 41. 44. 44. 45. 45. 47. 50. 51. 56.\n",
      " 57. 57. 57. 59. 61. 62. 63. 64. 65. 67. 67. 68. 68. 70. 70. 71. 71. 71.\n",
      " 72. 72. 72. 74. 75. 75. 76. 76. 77. 78. 79. 82. 83. 84. 84. 85. 86. 88.\n",
      " 89. 89. 91. 94. 95. 96. 97. 99. 99. 99.]\n"
     ]
    }
   ],
   "source": [
    "MAX_VALUE = 10000\n",
    "MIN_VALUE = -1\n",
    "\n",
    "\n",
    "def counting_sort(A):\n",
    "    print('src array:', A)\n",
    "    minValue = MAX_VALUE\n",
    "    maxValue = MIN_VALUE\n",
    "    for i in A:\n",
    "        minValue = i if i < minValue else minValue\n",
    "        maxValue = i if i > maxValue else maxValue\n",
    "\n",
    "    print('minValue, maxValue', minValue, maxValue)\n",
    "    C = np.zeros(maxValue + 1, dtype=int)\n",
    "    for i in A:\n",
    "        C[i] += 1\n",
    "    print('count array: ', C)\n",
    "    D = np.array([])\n",
    "    for i in range(C.size):\n",
    "        while C[i] != 0:\n",
    "            D = np.append(D, i)\n",
    "            C[i] -= 1\n",
    "    return D\n",
    "\n",
    "\n",
    "MAX_M = 10\n",
    "data = np.random.randint(0, 100, 100)\n",
    "startTime = datetime.datetime.now()\n",
    "# print('srcData', data)\n",
    "print(counting_sort(data.copy()))\n",
    "entTime = datetime.datetime.now()\n"
   ],
   "metadata": {
    "collapsed": false,
    "pycharm": {
     "name": "#%%\n"
    }
   }
  }
 ],
 "metadata": {
  "kernelspec": {
   "display_name": "Python 3",
   "language": "python",
   "name": "python3"
  },
  "language_info": {
   "codemirror_mode": {
    "name": "ipython",
    "version": 2
   },
   "file_extension": ".py",
   "mimetype": "text/x-python",
   "name": "python",
   "nbconvert_exporter": "python",
   "pygments_lexer": "ipython2",
   "version": "2.7.6"
  }
 },
 "nbformat": 4,
 "nbformat_minor": 0
}